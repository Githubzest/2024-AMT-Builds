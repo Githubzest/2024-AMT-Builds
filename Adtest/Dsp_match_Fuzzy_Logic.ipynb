{
 "cells": [
  {
   "cell_type": "code",
   "execution_count": null,
   "metadata": {},
   "outputs": [],
   "source": [
    "#use fuzzywuzzy to match marketing approved customer lists with  dsp customer lists\n",
    "#importing libraries\n",
    "#to-\n",
    "\n",
    "\n",
    "from fuzzywuzzy import fuzz \n",
    "import pandas as pd \n",
    "\n",
    "# readinng csv files into dataframes\n",
    "\n",
    "#df_cust = pd.read_csv(\"Cleaned.csv\", encoding = \"ISO-8859-1\")\n",
    "#df_ads = pd.read_csv(\"DSP-Cleansed.csv\")\n",
    "#df_ads = df_ads[['SF Account']].copy()\n",
    "\n",
    "fuzz.ratio(\"this is a test\", \"this is a test!\")\n",
    "\n",
    "\n",
    "df_cust= pd.read_csv(\"Tealium_Active_Customers.csv\", encoding = \"ISO-8859-1\")\n",
    "df_ads= pd.read_csv(\"June_2024_DSP_Accounts.csv\", encoding= \"ISO-8859-1\") \n",
    "# df_ads= df_ads[['SF Account']].copy()\n",
    "\n",
    "\n",
    "\n",
    "\n",
    "# removing duplicates\n",
    "\n",
    "df_cust = df_cust.drop_duplicates()\n",
    "df_ads = df_ads.drop_duplicates()\n",
    "\n",
    "# renaming columns\n",
    "\n",
    "# df_cust = df_cust.rename(columns={'Account Name': 'Cust_Account'})\n",
    "# df_ads = df_ads.rename(columns={'SF Account': 'Dsp_Account'})\n",
    "\n",
    "#Cross Joint\n",
    "\n",
    "df = df_cust.merge(df_ads, how='cross')\n",
    "\n",
    "# Add columns similarity_score that contains match score\n",
    "\n",
    "# df['similarity_score'] = df.apply(lambda x: fuzz.ratio(x['Cust_Account'], x['Dsp_Account']), axis=1)\n",
    "\n",
    "df['similarity_score'] = df.apply(lambda x: fuzz.ratio(x['Account_Name'], x['SF_Account']), axis=1)\n",
    "\n",
    "\n",
    "\n",
    "#filter to similarity_score above 70%\n",
    "\n",
    "result_df = df[df['similarity_score'] > 70]\n",
    "\n",
    "#export to csv\n",
    "\n",
    "result_df.to_csv('merged_match_rate_above_70.csv')"
   ]
  }
 ],
 "metadata": {
  "kernelspec": {
   "display_name": "Python 3",
   "language": "python",
   "name": "python3"
  },
  "language_info": {
   "codemirror_mode": {
    "name": "ipython",
    "version": 3
   },
   "file_extension": ".py",
   "mimetype": "text/x-python",
   "name": "python",
   "nbconvert_exporter": "python",
   "pygments_lexer": "ipython3",
   "version": "3.10.1"
  },
  "orig_nbformat": 4
 },
 "nbformat": 4,
 "nbformat_minor": 2
}
