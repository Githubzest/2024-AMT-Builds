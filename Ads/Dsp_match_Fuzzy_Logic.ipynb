{
 "cells": [
  {
   "cell_type": "code",
   "execution_count": null,
   "metadata": {},
   "outputs": [],
   "source": [
    "#use fuzzywuzzy to match marketing approved customer lists with  dsp customer lists\n",
    "#importing libraries\n",
    "#to-\n",
    "\n",
    "from fuzzywuzzy import fuzz\n",
    "import pandas as pd\n",
    "\n",
    "# readinng csv files into dataframes\n",
    "\n",
    "df_cust = pd.read_csv(\"cleaned.csv\", encoding = \"ISO-8859-1\")\n",
    "df_ads = pd.read_csv(\"DSP-Cleansed.csv\")\n",
    "df_ads = df_ads[['SF Account']].copy()\n",
    "\n",
    "# removing duplicates\n",
    "\n",
    "df_cust = df_cust.drop_duplicates()\n",
    "df_ads = df_ads.drop_duplicates()\n",
    "\n",
    "# renaming columns\n",
    "\n",
    "df_cust = df_cust.rename(columns={'Account Name': 'Cust_Account'})\n",
    "df_ads = df_ads.rename(columns={'SF Account': 'Dsp_Account'})\n",
    "\n",
    "#Cross Joint\n",
    "\n",
    "df = df_cust.merge(df_ads, how='cross')\n",
    "\n",
    "# Add columns similarity_score that contains match score\n",
    "\n",
    "df['similarity_score'] = df.apply(lambda x: fuzz.ratio(x['Cust_Account'], x['Dsp_Account']), axis=1)\n",
    "\n",
    "#filter to similarity_score above 70%\n",
    "\n",
    "result_df = df[df['similarity_score'] > 70]\n",
    "\n",
    "#export to csv\n",
    "\n",
    "result_df.to_csv('merged_match_rate_above_70.csv')"
   ]
  }
 ],
 "metadata": {
  "language_info": {
   "name": "python"
  },
  "orig_nbformat": 4
 },
 "nbformat": 4,
 "nbformat_minor": 2
}
